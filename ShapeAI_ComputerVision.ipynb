{
  "nbformat": 4,
  "nbformat_minor": 0,
  "metadata": {
    "colab": {
      "name": "ShapeAI_ComputerVision.ipynb",
      "provenance": [],
      "authorship_tag": "ABX9TyPSXC9n1OVVQ8O3x5kcpNy1",
      "include_colab_link": true
    },
    "kernelspec": {
      "name": "python3",
      "display_name": "Python 3"
    },
    "language_info": {
      "name": "python"
    }
  },
  "cells": [
    {
      "cell_type": "markdown",
      "metadata": {
        "id": "view-in-github",
        "colab_type": "text"
      },
      "source": [
        "<a href=\"https://colab.research.google.com/github/abhijeetraj22/ShapeAI_ComputerVision_with_OpenCV/blob/main/ShapeAI_ComputerVision.ipynb\" target=\"_parent\"><img src=\"https://colab.research.google.com/assets/colab-badge.svg\" alt=\"Open In Colab\"/></a>"
      ]
    },
    {
      "cell_type": "markdown",
      "metadata": {
        "id": "JduXkEK0BRKu"
      },
      "source": [
        "# Human Face Counter"
      ]
    },
    {
      "cell_type": "code",
      "metadata": {
        "id": "SUf6fpVFBO2G"
      },
      "source": [
        "import cv2\n",
        "from google.colab.patches import cv2_imshow"
      ],
      "execution_count": 1,
      "outputs": []
    },
    {
      "cell_type": "code",
      "metadata": {
        "id": "ThGzLm-xBw24"
      },
      "source": [
        "face_casecade = cv2.CascadeClassifier('/bbbb.xml')\n",
        "img = cv2.imread('')\n",
        "cv2_imshow(img)"
      ],
      "execution_count": null,
      "outputs": []
    },
    {
      "cell_type": "code",
      "metadata": {
        "id": "4rITqqyCCgxH"
      },
      "source": [
        "gray_img = cv2.cvtColor(img, cv2.COLOR_RGB2GRAY)\n",
        "cv2_imshow(gray_img)"
      ],
      "execution_count": null,
      "outputs": []
    },
    {
      "cell_type": "code",
      "metadata": {
        "id": "tQ2dapwTC7u4"
      },
      "source": [
        "faces = face_cascade.detectMultiScale(gray_img)\n",
        "print(faces)"
      ],
      "execution_count": null,
      "outputs": []
    },
    {
      "cell_type": "code",
      "metadata": {
        "id": "kt2nExq4DRIJ"
      },
      "source": [
        "for(x,y,w,h) in faces:\n",
        "  cv2.rectangle(img, (x,y),(x+w,y+h),(255,100,0),2)\n",
        "cv2_imshow(img)"
      ],
      "execution_count": null,
      "outputs": []
    },
    {
      "cell_type": "code",
      "metadata": {
        "id": "XnwXX5tVD7o_"
      },
      "source": [
        "eye_cascade = cv2.CascadeClassifier('.xml')\n",
        "img = cv2.imread(\"\")\n",
        "gray_img = cv2.cvtColor(img, cv2.COLOR_RGB2GRAY)\n",
        "eyes = eye_cascade.detectMultiScale(gray_img)\n",
        "print(eyes)\n",
        "for(x,y,w,h) in faces:\n",
        "  cv2.rectangle(img, (x,y),(x+w,y+h),(100,10,250),2)\n",
        "cv2_imshow(img)"
      ],
      "execution_count": null,
      "outputs": []
    },
    {
      "cell_type": "code",
      "metadata": {
        "id": "UYQUbJJcH2Xe"
      },
      "source": [
        "def fun_to_detect(img_path):\n",
        "  face_casecade = cv2.CascadeClassifier('/bbbb.xml')\n",
        "  img = cv2.imread('')\n",
        "  gray_img = cv2.cvtColor(img, cv2.COLOR_RGB2GRAY)\n",
        "  faces = face_cascade.detectMultiScale(gray_img)\n",
        "  for(x,y,w,h) in faces:\n",
        "    cv2.rectangle(img, (x,y),(x+w,y+h),(100,10,250),2)\n",
        "  cv2_imshow(img)"
      ],
      "execution_count": null,
      "outputs": []
    },
    {
      "cell_type": "code",
      "metadata": {
        "id": "CXzTva2TIhge"
      },
      "source": [
        "fun_to_detect(\"/img.jpg\")"
      ],
      "execution_count": null,
      "outputs": []
    }
  ]
}